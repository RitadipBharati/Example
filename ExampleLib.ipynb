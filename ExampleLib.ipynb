{
 "cells": [
  {
   "cell_type": "code",
   "execution_count": 1,
   "metadata": {},
   "outputs": [],
   "source": [
    "def Round(n, decimals = 0):    #customized round function.\n",
    "    multiplier = 10 ** decimals\n",
    "    if n>=0:\n",
    "        m=int(n*multiplier + 0.5) / multiplier\n",
    "    else:\n",
    "        m=int(n*multiplier - 0.5) / multiplier\n",
    "    return m\n",
    "def SwapRows(a,n,m):          #function for swapping rows\n",
    "    a[n],a[m]=a[m],a[n]\n",
    "    return a\n",
    "def Transpose(a):                      # a function for creating transpose of a matrix or vector\n",
    "    l=[]\n",
    "    for i in range(len(a[0])):\n",
    "        l.append([])\n",
    "        for j in range(len(a)):\n",
    "            l[i].append(0)\n",
    "    for m in range(len(a)):\n",
    "        for n in range(len(a[0])):\n",
    "            l[n][m]=a[m][n]\n",
    "    return(l)"
   ]
  },
  {
   "cell_type": "code",
   "execution_count": null,
   "metadata": {},
   "outputs": [],
   "source": []
  }
 ],
 "metadata": {
  "kernelspec": {
   "display_name": "Python 3",
   "language": "python",
   "name": "python3"
  },
  "language_info": {
   "codemirror_mode": {
    "name": "ipython",
    "version": 3
   },
   "file_extension": ".py",
   "mimetype": "text/x-python",
   "name": "python",
   "nbconvert_exporter": "python",
   "pygments_lexer": "ipython3",
   "version": "3.7.6"
  }
 },
 "nbformat": 4,
 "nbformat_minor": 4
}
