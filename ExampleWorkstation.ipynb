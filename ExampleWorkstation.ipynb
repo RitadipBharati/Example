{
 "cells": [
  {
   "cell_type": "code",
   "execution_count": 1,
   "metadata": {},
   "outputs": [],
   "source": [
    "#pip install import_ipynb #this installs package \"import_ipynb\" which helps importing .ipynb files."
   ]
  },
  {
   "cell_type": "code",
   "execution_count": 2,
   "metadata": {},
   "outputs": [
    {
     "name": "stdout",
     "output_type": "stream",
     "text": [
      "importing Jupyter notebook from ExampleLib.ipynb\n"
     ]
    }
   ],
   "source": [
    "import import_ipynb\n",
    "from ExampleLib import *"
   ]
  },
  {
   "cell_type": "code",
   "execution_count": 11,
   "metadata": {},
   "outputs": [
    {
     "name": "stdout",
     "output_type": "stream",
     "text": [
      "[[22, 21, 35], [83, 55, 67], [92, 43, 79]]\n"
     ]
    }
   ],
   "source": [
    "M=[]\n",
    "inputfile=open(r'examplematrix.txt','r')\n",
    "for i in range(3):\n",
    "    line= inputfile.readline().rstrip(\"\\n\")\n",
    "    m=[int(x) for x in line.split()]\n",
    "    M.append(m)\n",
    "#print(M)"
   ]
  },
  {
   "cell_type": "code",
   "execution_count": 24,
   "metadata": {},
   "outputs": [
    {
     "name": "stdout",
     "output_type": "stream",
     "text": [
      "[[22, 21, 35], [83, 55, 67], [92, 43, 79]]\n",
      "[[22, 83, 92], [21, 55, 43], [35, 67, 79]]\n"
     ]
    }
   ],
   "source": [
    "SwapRows(M,0,1)\n",
    "print(M)\n",
    "MT=(Transpose(M))\n",
    "print(MT)"
   ]
  },
  {
   "cell_type": "code",
   "execution_count": 28,
   "metadata": {},
   "outputs": [],
   "source": [
    "outputfile=open(r'outputmatrix.txt','w')\n",
    "for i in range(3):\n",
    "    outputfile.write(str(MT[i])+\"\\n\")\n",
    "outputfile.close()"
   ]
  },
  {
   "cell_type": "code",
   "execution_count": null,
   "metadata": {},
   "outputs": [],
   "source": []
  }
 ],
 "metadata": {
  "kernelspec": {
   "display_name": "Python 3",
   "language": "python",
   "name": "python3"
  },
  "language_info": {
   "codemirror_mode": {
    "name": "ipython",
    "version": 3
   },
   "file_extension": ".py",
   "mimetype": "text/x-python",
   "name": "python",
   "nbconvert_exporter": "python",
   "pygments_lexer": "ipython3",
   "version": "3.7.6"
  }
 },
 "nbformat": 4,
 "nbformat_minor": 4
}
